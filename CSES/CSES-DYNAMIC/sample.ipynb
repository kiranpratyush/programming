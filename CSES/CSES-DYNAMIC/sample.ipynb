{
 "cells": [
  {
   "cell_type": "code",
   "execution_count": null,
   "metadata": {},
   "outputs": [],
   "source": [
    "from abc import ABC ,abstractmethod\n",
    "\n",
    "class Flyable(ABC):\n",
    "    @abstractmethod\n",
    "    def fly():\n",
    "        pass\n",
    "\n",
    "class Bird(Flyable):\n",
    "    def __init__(self):\n",
    "        self.name = \"Bird\"\n",
    "    def fly(self):\n",
    "       return 2\n",
    "\n",
    "class Penguin(Flyable):\n",
    "    def __init__(self):\n",
    "        self.name = \"penguin\"\n",
    "    def fly(self):\n",
    "        return 1"
   ]
  },
  {
   "cell_type": "code",
   "execution_count": null,
   "metadata": {},
   "outputs": [],
   "source": []
  },
  {
   "cell_type": "code",
   "execution_count": null,
   "metadata": {},
   "outputs": [],
   "source": []
  }
 ],
 "metadata": {
  "kernelspec": {
   "display_name": "Python 3",
   "language": "python",
   "name": "python3"
  },
  "language_info": {
   "name": "python",
   "version": "3.11.9"
  }
 },
 "nbformat": 4,
 "nbformat_minor": 2
}
